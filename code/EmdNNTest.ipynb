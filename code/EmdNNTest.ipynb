{
 "cells": [
  {
   "cell_type": "code",
   "execution_count": 1,
   "id": "072fc5e8",
   "metadata": {},
   "outputs": [],
   "source": [
    "import numpy as np\n",
    "import pandas as pd\n",
    "import math\n",
    "import torch\n",
    "from pyjet import cluster,DTYPE_PTEPM\n",
    "\n",
    "def jet_particles(raw_path, n_events, back):\n",
    "    if back:\n",
    "        start = 1e6 - n_events\n",
    "        df = pd.read_hdf(raw_path, start=start)\n",
    "    else:\n",
    "        df = pd.read_hdf(raw_path, stop=n_events)\n",
    "    all_events = df.values\n",
    "    rows = all_events.shape[0]\n",
    "    cols = all_events.shape[1]\n",
    "    X = []\n",
    "    # cluster jets and store info\n",
    "    for i in range(rows):\n",
    "        pseudojets_input = np.zeros(len([x for x in all_events[i][::3] if x > 0]), dtype=DTYPE_PTEPM)\n",
    "        for j in range(cols // 3):\n",
    "            if (all_events[i][j*3]>0):\n",
    "                pseudojets_input[j]['pT'] = all_events[i][j*3]\n",
    "                pseudojets_input[j]['eta'] = all_events[i][j*3+1]\n",
    "                pseudojets_input[j]['phi'] = all_events[i][j*3+2]\n",
    "        sequence = cluster(pseudojets_input, R=1.0, p=-1)\n",
    "        jets = sequence.inclusive_jets()[:2] # leading 2 jets only\n",
    "        if len(jets) < 2: continue\n",
    "        for jet in jets: # for each jet get (px, py, pz, e)\n",
    "            if jet.pt < 200 or len(jets)<=1: continue\n",
    "            n_particles = len(jet)\n",
    "            particles = np.zeros((n_particles, 3))\n",
    "            # store all the particles of this jet\n",
    "            for p, part in enumerate(jet):\n",
    "                particles[p,:] = np.array([part.pt,\n",
    "                                           part.eta,\n",
    "                                           part.phi])\n",
    "            X.append(particles)\n",
    "    X = np.array(X,dtype='O')\n",
    "    return X"
   ]
  },
  {
   "cell_type": "code",
   "execution_count": 2,
   "id": "9e5a22a4",
   "metadata": {},
   "outputs": [],
   "source": [
    "X = jet_particles('/anomalyvol/data/bb_train_sets/bb0/raw/events_LHCO2020_backgroundMC_Pythia.h5', 70, False)"
   ]
  },
  {
   "cell_type": "code",
   "execution_count": 3,
   "id": "87e6b61b",
   "metadata": {},
   "outputs": [],
   "source": [
    "import itertools\n",
    "import tables\n",
    "import energyflow as ef\n",
    "from torch_geometric.data import Dataset, Data, DataLoader\n",
    "\n",
    "ONE_HUNDRED_GEV = 100.0\n",
    "R = 0.4"
   ]
  },
  {
   "cell_type": "code",
   "execution_count": 4,
   "id": "b64b50f5",
   "metadata": {},
   "outputs": [],
   "source": [
    "# clean and store list of jets as particles (pt, eta, phi)\n",
    "Js = []\n",
    "for x in X: \n",
    "    # center jet according to pt-centroid\n",
    "    yphi_avg = np.average(x[:,1:3], weights=x[:,0], axis=0)\n",
    "    x[:,1:3] -= yphi_avg\n",
    "    # mask out any particles farther than R=0.4 away from center (rare)\n",
    "    x = x[np.linalg.norm(x[:,1:3], axis=1) <= R]\n",
    "    # add to list\n",
    "    if len(x) == 0: continue\n",
    "    Js.append(x)"
   ]
  },
  {
   "cell_type": "code",
   "execution_count": 5,
   "id": "4d89fd1f",
   "metadata": {},
   "outputs": [],
   "source": [
    "jetpairs = [[i, j] for (i, j) in itertools.product(range(len(Js)),range(len(Js)))]"
   ]
  },
  {
   "cell_type": "code",
   "execution_count": 6,
   "id": "b1f6e652",
   "metadata": {},
   "outputs": [],
   "source": [
    "datas = []\n",
    "for k, (i, j) in enumerate(jetpairs): \n",
    "    emdval, G = ef.emd.emd(Js[i], Js[j], R=R, return_flow=True)\n",
    "    emdval = emdval/ONE_HUNDRED_GEV\n",
    "    G = G/ONE_HUNDRED_GEV\n",
    "    Ei = np.sum(Js[i][:,0])\n",
    "    Ej = np.sum(Js[j][:,0])\n",
    "    jiNorm = np.zeros((Js[i].shape[0],Js[i].shape[1]+1)) # add a field\n",
    "    jjNorm = np.zeros((Js[j].shape[0],Js[j].shape[1]+1)) # add a field\n",
    "    jiNorm[:,:3] = Js[i].copy()\n",
    "    jjNorm[:,:3] = Js[j].copy()\n",
    "    jiNorm[:,0] = jiNorm[:,0]/Ei\n",
    "    jjNorm[:,0] = jjNorm[:,0]/Ej\n",
    "    jiNorm[:,3] = -1*np.ones((Js[i].shape[0]))\n",
    "    jjNorm[:,3] = np.ones((Js[j].shape[0]))\n",
    "    jetpair = np.concatenate([jiNorm, jjNorm], axis=0)\n",
    "    nparticles_i = len(Js[i])\n",
    "    nparticles_j = len(Js[j])\n",
    "    pairs = [[m, n] for (m, n) in itertools.product(range(0,nparticles_i),range(nparticles_i,nparticles_i+nparticles_j))]\n",
    "    edge_index = torch.tensor(pairs, dtype=torch.long)\n",
    "    edge_index = edge_index.t().contiguous()\n",
    "    u = torch.tensor([[Ei/ONE_HUNDRED_GEV, Ej/ONE_HUNDRED_GEV]], dtype=torch.float)\n",
    "    edge_y = torch.tensor([[G[m,n-nparticles_i] for m, n in pairs]], dtype=torch.float)\n",
    "    edge_y = edge_y.t().contiguous()\n",
    "    \n",
    "    x = torch.tensor(jetpair, dtype=torch.float)\n",
    "    y = torch.tensor([[emdval]], dtype=torch.float)\n",
    "\n",
    "    data = Data(x=x, edge_index=edge_index, y=y, u=u, edge_y=edge_y)\n",
    "\n",
    "    datas.append(data)   "
   ]
  },
  {
   "cell_type": "code",
   "execution_count": 7,
   "id": "183c2354",
   "metadata": {},
   "outputs": [],
   "source": [
    "loader = DataLoader(datas, batch_size=32, shuffle=False)"
   ]
  },
  {
   "cell_type": "code",
   "execution_count": 8,
   "id": "68e5f2e2",
   "metadata": {},
   "outputs": [],
   "source": [
    "import emd_models\n",
    "import models\n",
    "from loss_util import load_emd_model"
   ]
  },
  {
   "cell_type": "code",
   "execution_count": 9,
   "id": "193b9337",
   "metadata": {},
   "outputs": [],
   "source": [
    "dev = torch.device('cuda:0')\n",
    "emd_model = load_emd_model('EmdNNSpl.best.pth', dev)\n",
    "emd_model.to(dev);"
   ]
  },
  {
   "cell_type": "code",
   "execution_count": 10,
   "id": "ea6452ce",
   "metadata": {},
   "outputs": [],
   "source": [
    "torch.cuda.empty_cache()"
   ]
  },
  {
   "cell_type": "code",
   "execution_count": 11,
   "id": "8fdb4214",
   "metadata": {},
   "outputs": [],
   "source": [
    "import GPUtil"
   ]
  },
  {
   "cell_type": "code",
   "execution_count": 12,
   "id": "8a3c4903",
   "metadata": {
    "scrolled": false
   },
   "outputs": [
    {
     "name": "stdout",
     "output_type": "stream",
     "text": [
      "| ID | GPU | MEM |\n",
      "------------------\n",
      "|  0 |  0% |  7% |\n",
      "| ID | GPU | MEM |\n",
      "------------------\n",
      "|  0 | 36% | 10% |\n",
      "| ID | GPU | MEM |\n",
      "------------------\n",
      "|  0 | 31% | 10% |\n",
      "| ID | GPU | MEM |\n",
      "------------------\n",
      "|  0 | 29% | 12% |\n",
      "| ID | GPU | MEM |\n",
      "------------------\n",
      "|  0 |  0% | 12% |\n",
      "| ID | GPU | MEM |\n",
      "------------------\n",
      "|  0 | 31% | 14% |\n",
      "| ID | GPU | MEM |\n",
      "------------------\n",
      "|  0 |  0% | 14% |\n",
      "| ID | GPU | MEM |\n",
      "------------------\n",
      "|  0 | 55% | 14% |\n",
      "| ID | GPU | MEM |\n",
      "------------------\n",
      "|  0 |  0% | 14% |\n",
      "| ID | GPU | MEM |\n",
      "------------------\n",
      "|  0 | 29% | 14% |\n",
      "| ID | GPU | MEM |\n",
      "------------------\n",
      "|  0 |  0% | 14% |\n",
      "| ID | GPU | MEM |\n",
      "------------------\n",
      "|  0 |  1% | 14% |\n",
      "| ID | GPU | MEM |\n",
      "------------------\n",
      "|  0 | 32% | 14% |\n"
     ]
    }
   ],
   "source": [
    "with torch.no_grad():\n",
    "    emd_preds = []\n",
    "    for i, d in enumerate(loader):\n",
    "        d = d.to(dev)\n",
    "        if i % 50 == 0:\n",
    "            GPUtil.showUtilization()\n",
    "        emd_preds.append(emd_model(d)[0].detach().cpu())\n",
    "    emd_preds = np.concatenate([t.numpy() for t in emd_preds])"
   ]
  },
  {
   "cell_type": "code",
   "execution_count": 13,
   "id": "ee8423c7",
   "metadata": {},
   "outputs": [],
   "source": [
    "import matplotlib.pyplot as plt"
   ]
  },
  {
   "cell_type": "code",
   "execution_count": 14,
   "id": "557d3a2d",
   "metadata": {},
   "outputs": [],
   "source": [
    "emds = np.array([d.y.item() for d in datas])"
   ]
  },
  {
   "cell_type": "code",
   "execution_count": 15,
   "id": "644bb9f0",
   "metadata": {},
   "outputs": [
    {
     "data": {
      "image/png": "[encoded data removed]",
      "text/plain": [
       "<Figure size 432x288 with 1 Axes>"
      ]
     },
     "metadata": {
      "needs_background": "light"
     },
     "output_type": "display_data"
    }
   ],
   "source": [
    "bins = np.linspace(0, 20, 30)\n",
    "plt.hist(emds, alpha=0.5, bins=bins)\n",
    "plt.hist(emd_preds, alpha=0.5, bins=bins);"
   ]
  },
  {
   "cell_type": "code",
   "execution_count": 16,
   "id": "b4df7f43",
   "metadata": {},
   "outputs": [],
   "source": [
    "diff = emds.reshape(-1,1) - emd_preds"
   ]
  },
  {
   "cell_type": "code",
   "execution_count": 17,
   "id": "169a4e5e",
   "metadata": {},
   "outputs": [
    {
     "data": {
      "image/png": "[encoded data removed]",
      "text/plain": [
       "<Figure size 432x288 with 1 Axes>"
      ]
     },
     "metadata": {
      "needs_background": "light"
     },
     "output_type": "display_data"
    }
   ],
   "source": [
    "plt.hist(diff, bins=60);"
   ]
  },
  {
   "cell_type": "code",
   "execution_count": 18,
   "id": "551fbafc",
   "metadata": {},
   "outputs": [],
   "source": [
    "import models"
   ]
  },
  {
   "cell_type": "code",
   "execution_count": 31,
   "id": "14141487",
   "metadata": {
    "scrolled": true
   },
   "outputs": [],
   "source": [
    "model = models.EdgeNet(input_dim = 3, big_dim = 32)\n",
    "model.load_state_dict(torch.load('/anomalyvol/experiments/deletemeemd/deleteme.best.pth'))\n",
    "model.to(dev);"
   ]
  },
  {
   "cell_type": "code",
   "execution_count": 33,
   "id": "fb371f54",
   "metadata": {},
   "outputs": [],
   "source": [
    "jet = X[0]"
   ]
  },
  {
   "cell_type": "code",
   "execution_count": 43,
   "id": "61b19962",
   "metadata": {},
   "outputs": [
    {
     "name": "stdout",
     "output_type": "stream",
     "text": [
      "10526\n"
     ]
    }
   ],
   "source": [
    "for i, n in enumerate(diff):\n",
    "    if n == np.median(diff):\n",
    "        print(i)"
   ]
  },
  {
   "cell_type": "code",
   "execution_count": 47,
   "id": "17df60e5",
   "metadata": {},
   "outputs": [
    {
     "data": {
      "text/plain": [
       "[75, 101]"
      ]
     },
     "execution_count": 47,
     "metadata": {},
     "output_type": "execute_result"
    }
   ],
   "source": [
    "jetpairs[10526]"
   ]
  },
  {
   "cell_type": "code",
   "execution_count": 51,
   "id": "90c8365e",
   "metadata": {},
   "outputs": [
    {
     "data": {
      "text/plain": [
       "array([3.4820719], dtype=float32)"
      ]
     },
     "execution_count": 51,
     "metadata": {},
     "output_type": "execute_result"
    }
   ],
   "source": [
    "emd_preds[10526]"
   ]
  },
  {
   "cell_type": "code",
   "execution_count": 48,
   "id": "2f15eb9e",
   "metadata": {},
   "outputs": [
    {
     "data": {
      "text/plain": [
       "array([[ 1.84701252e+00,  1.81252831e-01, -2.13085622e-01],\n",
       "       [ 1.85905528e+00, -1.54479063e-01,  5.62865734e-02],\n",
       "       [ 1.09606123e+00,  1.39663899e-01, -4.68489534e-03],\n",
       "       [ 9.04541790e-01,  1.26070940e-01, -2.76106001e-02],\n",
       "       [ 4.99909306e+00, -2.12259653e-02, -9.70481933e-02],\n",
       "       [ 1.75314867e+00,  7.14522836e-02, -5.52915931e-02],\n",
       "       [ 2.42189646e+00,  7.62928960e-02, -4.30013091e-02],\n",
       "       [ 4.68515106e+02,  1.28492352e-02,  3.37314903e-02],\n",
       "       [ 3.78772402e+00, -1.74180034e-02, -5.12810499e-02],\n",
       "       [ 6.29330921e+00, -2.47106913e-02, -3.89560611e-02],\n",
       "       [ 9.08385086e+01, -9.43872959e-03, -2.47310103e-02],\n",
       "       [ 3.62495941e+02, -1.47571924e-02, -7.06267363e-03],\n",
       "       [ 2.53630325e+02, -1.22111800e-02, -1.45603419e-02],\n",
       "       [ 1.94552979e+02, -1.06982353e-02, -1.60874129e-02]])"
      ]
     },
     "execution_count": 48,
     "metadata": {},
     "output_type": "execute_result"
    }
   ],
   "source": [
    "Js[75]"
   ]
  },
  {
   "cell_type": "code",
   "execution_count": 49,
   "id": "d711dd6b",
   "metadata": {},
   "outputs": [
    {
     "data": {
      "text/plain": [
       "array([[ 1.31375418e+01,  3.70518311e-01,  1.13488440e-01],\n",
       "       [ 1.02689457e+01,  3.54390963e-01,  1.29251723e-01],\n",
       "       [ 1.36446629e+01,  3.60180958e-01,  8.27483576e-02],\n",
       "       [ 1.40994227e+00,  2.13108047e-01,  2.97629957e-01],\n",
       "       [ 4.85710859e+00,  3.12917455e-01,  1.67766277e-01],\n",
       "       [ 1.39712489e+00,  3.14256891e-01, -1.55552920e-01],\n",
       "       [ 5.36326694e+00,  2.49797686e-01,  2.28044574e-01],\n",
       "       [ 3.04084802e+00,  1.76497563e-01, -3.00134550e-01],\n",
       "       [ 1.43849564e+00,  1.34392127e-01,  2.96740476e-01],\n",
       "       [ 1.26569185e+01,  3.01432594e-01,  9.01797455e-02],\n",
       "       [ 1.52114224e+00,  2.66911849e-01,  4.83284038e-02],\n",
       "       [ 1.25325167e+00,  2.51659616e-01, -9.00355834e-02],\n",
       "       [ 5.32703876e+00,  2.54101261e-01, -2.67519909e-02],\n",
       "       [ 1.69492352e+00,  2.15073927e-01, -1.45113077e-01],\n",
       "       [ 1.12957704e+00,  2.09151014e-01,  1.43446628e-01],\n",
       "       [ 1.56561458e+00, -2.97824301e-02,  2.69235913e-01],\n",
       "       [ 6.69655740e-01,  2.39981874e-01, -5.17483014e-02],\n",
       "       [ 4.39614439e+00,  9.93002496e-02,  2.05128614e-01],\n",
       "       [ 4.27185583e+00,  1.68492778e-01,  1.42324690e-01],\n",
       "       [ 9.25841045e+00, -1.65150918e-02,  1.59312252e-01],\n",
       "       [ 9.09007359e+00,  7.43912302e-02,  1.15868990e-01],\n",
       "       [ 5.20935678e+00, -2.05887932e-03,  1.43705372e-01],\n",
       "       [ 1.27823009e+01,  7.48553119e-02,  9.37215131e-02],\n",
       "       [ 2.82210851e+00,  9.95629869e-02, -7.87452120e-02],\n",
       "       [ 3.92789841e+00,  1.04166492e-01, -4.32378310e-02],\n",
       "       [ 1.48424072e+01,  2.84859381e-02,  8.73960298e-02],\n",
       "       [ 5.33028889e+00,  3.75991307e-02,  7.82758039e-02],\n",
       "       [ 8.21484375e+00,  1.36941515e-02,  5.56426686e-02],\n",
       "       [ 8.20959187e+00,  1.35471664e-02,  1.15927201e-02],\n",
       "       [ 2.07597504e+01,  4.15210348e-03, -9.52954914e-04],\n",
       "       [ 2.15553513e+01, -3.22361368e-03, -3.68035990e-02],\n",
       "       [ 1.40336590e+01,  4.81649456e-04, -8.38603403e-04],\n",
       "       [ 2.29814415e+01, -5.19173898e-02, -2.35872823e-02],\n",
       "       [ 9.02363682e+00, -1.76425137e-02, -2.43065316e-02],\n",
       "       [ 8.31368637e+01, -3.65026154e-02, -1.22254672e-03],\n",
       "       [ 1.74061508e+02, -2.36594834e-02, -8.28170362e-03],\n",
       "       [ 3.13037109e+01, -2.14681186e-02, -1.54016871e-02],\n",
       "       [ 2.27524166e+01, -3.91700425e-02, -2.45280820e-02],\n",
       "       [ 3.75412331e+01, -2.65403547e-02, -2.06372100e-02],\n",
       "       [ 2.51218395e+01, -2.82029070e-02, -1.45029086e-02],\n",
       "       [ 1.71243687e+01, -3.93029608e-02, -1.53381783e-02],\n",
       "       [ 5.63732185e+01, -3.43758025e-02, -1.71801406e-02],\n",
       "       [ 4.83649475e+02, -3.42919983e-02, -1.46637815e-02],\n",
       "       [ 6.05150490e+01, -3.22614469e-02, -1.59723717e-02]])"
      ]
     },
     "execution_count": 49,
     "metadata": {},
     "output_type": "execute_result"
    }
   ],
   "source": [
    "Js[101]"
   ]
  },
  {
   "cell_type": "code",
   "execution_count": null,
   "id": "50946567",
   "metadata": {},
   "outputs": [],
   "source": [
    "    "
   ]
  }
 ],
 "metadata": {
  "kernelspec": {
   "display_name": "Python 3",
   "language": "python",
   "name": "python3"
  },
  "language_info": {
   "codemirror_mode": {
    "name": "ipython",
    "version": 3
   },
   "file_extension": ".py",
   "mimetype": "text/x-python",
   "name": "python",
   "nbconvert_exporter": "python",
   "pygments_lexer": "ipython3",
   "version": "3.8.8"
  }
 },
 "nbformat": 4,
 "nbformat_minor": 5
}
