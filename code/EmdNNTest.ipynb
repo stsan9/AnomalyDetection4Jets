{
 "cells": [
  {
   "cell_type": "code",
   "execution_count": 1,
   "id": "8752f92e",
   "metadata": {},
   "outputs": [],
   "source": [
    "from loss_util import get_ptetaphi, preprocess_emdnn_input"
   ]
  },
  {
   "cell_type": "code",
   "execution_count": 2,
   "id": "072fc5e8",
   "metadata": {},
   "outputs": [],
   "source": [
    "import numpy as np\n",
    "import pandas as pd\n",
    "import math\n",
    "import torch\n",
    "from pyjet import cluster,DTYPE_PTEPM\n",
    "\n",
    "def jet_particles(raw_path, n_events):\n",
    "    df = pd.read_hdf(raw_path, stop=n_events)\n",
    "    all_events = df.values\n",
    "    rows = all_events.shape[0]\n",
    "    cols = all_events.shape[1]\n",
    "    X = []\n",
    "    # cluster jets and store info\n",
    "    for i in range(rows):\n",
    "        pseudojets_input = np.zeros(len([x for x in all_events[i][::3] if x > 0]), dtype=DTYPE_PTEPM)\n",
    "        for j in range(cols // 3):\n",
    "            if (all_events[i][j*3]>0):\n",
    "                pseudojets_input[j]['pT'] = all_events[i][j*3]\n",
    "                pseudojets_input[j]['eta'] = all_events[i][j*3+1]\n",
    "                pseudojets_input[j]['phi'] = all_events[i][j*3+2]\n",
    "        sequence = cluster(pseudojets_input, R=1.0, p=-1)\n",
    "        jets = sequence.inclusive_jets()[:2] # leading 2 jets only\n",
    "        if len(jets) < 2: continue\n",
    "        for jet in jets: # for each jet get (px, py, pz, e)\n",
    "            if jet.pt < 200 or len(jets)<=1: continue\n",
    "            n_particles = len(jet)\n",
    "            particles = np.zeros((n_particles, 6))\n",
    "            # store all the particles of this jet\n",
    "            for p, part in enumerate(jet):\n",
    "                particles[p,:] = np.array([part.px,\n",
    "                                           part.py,\n",
    "                                           part.pz,\n",
    "                                           part.pt,\n",
    "                                           part.eta,\n",
    "                                           part.phi])\n",
    "            X.append(particles)\n",
    "    X = np.array(X,dtype='O')\n",
    "    return X"
   ]
  },
  {
   "cell_type": "code",
   "execution_count": 3,
   "id": "9e5a22a4",
   "metadata": {},
   "outputs": [],
   "source": [
    "X = jet_particles('/anomalyvol/data/bb_train_sets/bb0/raw/events_LHCO2020_backgroundMC_Pythia.h5', 70)"
   ]
  },
  {
   "cell_type": "code",
   "execution_count": 4,
   "id": "1bafad9f",
   "metadata": {},
   "outputs": [],
   "source": [
    "x = X[2]"
   ]
  },
  {
   "cell_type": "code",
   "execution_count": 5,
   "id": "d035d7b9",
   "metadata": {},
   "outputs": [],
   "source": [
    "ptetaphi = get_ptetaphi(torch.from_numpy(x[:,:3]),torch.zeros(len(x)))"
   ]
  },
  {
   "cell_type": "code",
   "execution_count": 20,
   "id": "3c25c59a",
   "metadata": {},
   "outputs": [],
   "source": [
    "from collections import Counter\n",
    "c = Counter([len(x) for x in X])\n",
    "good_lens = [k for (k,v) in c.items() if v == 2]"
   ]
  },
  {
   "cell_type": "code",
   "execution_count": 7,
   "id": "98d36bbd",
   "metadata": {},
   "outputs": [],
   "source": [
    "pair = []\n",
    "for x in X:\n",
    "    if len(l) == good_lens[0]:\n",
    "        pair.append(x)"
   ]
  },
  {
   "cell_type": "code",
   "execution_count": 24,
   "id": "348c4e2c",
   "metadata": {},
   "outputs": [],
   "source": [
    "pair2 = []\n",
    "for x in X:\n",
    "    if len(x) == good_lens[1]:\n",
    "        pair2.append(x)"
   ]
  },
  {
   "cell_type": "markdown",
   "id": "64f42d03",
   "metadata": {},
   "source": [
    "# gae + emdnn preprocessing"
   ]
  },
  {
   "cell_type": "code",
   "execution_count": 34,
   "id": "ac07d7ef",
   "metadata": {},
   "outputs": [],
   "source": [
    "# stack jets on top of each other\n",
    "j1 = torch.from_numpy(pair[0][:,:3])\n",
    "j2 = torch.from_numpy(pair[1][:,:3])\n",
    "\n",
    "j3 = torch.from_numpy(pair2[0][:,:3])\n",
    "j4 = torch.from_numpy(pair2[1][:,:3])\n",
    "\n",
    "batch = torch.cat((torch.zeros(len(j1),dtype=torch.int64), torch.ones(len(j3),dtype=torch.int64)))\n",
    "\n",
    "jx = torch.cat((j1,j3))\n",
    "jy = torch.cat((j2,j4))"
   ]
  },
  {
   "cell_type": "code",
   "execution_count": 41,
   "id": "353bd29a",
   "metadata": {},
   "outputs": [],
   "source": [
    "jx = get_ptetaphi(jx, batch)\n",
    "jy = get_ptetaphi(jy, batch)\n",
    "\n",
    "data = preprocess_emdnn_input(jx, jy, batch)"
   ]
  },
  {
   "cell_type": "code",
   "execution_count": 91,
   "id": "224e3ae6",
   "metadata": {
    "scrolled": false
   },
   "outputs": [
    {
     "data": {
      "text/plain": [
       "tensor([[ 9.7467,  8.7371],\n",
       "        [12.8494, 12.1002]], dtype=torch.float64)"
      ]
     },
     "execution_count": 91,
     "metadata": {},
     "output_type": "execute_result"
    }
   ],
   "source": [
    "data.u"
   ]
  },
  {
   "cell_type": "markdown",
   "id": "3bbc992b",
   "metadata": {},
   "source": [
    "# emd-training preprocessing"
   ]
  },
  {
   "cell_type": "code",
   "execution_count": 10,
   "id": "df5f7b5a",
   "metadata": {},
   "outputs": [],
   "source": [
    "import torch\n",
    "import itertools\n",
    "import numpy as np\n",
    "import energyflow as ef\n",
    "from torch_geometric.data import Dataset, Data"
   ]
  },
  {
   "cell_type": "code",
   "execution_count": 79,
   "id": "be07bf7c",
   "metadata": {},
   "outputs": [],
   "source": [
    "X2 = [p[:,3:] for p in pair[:2]] + [p[:,3:] for p in pair2[:2]]"
   ]
  },
  {
   "cell_type": "code",
   "execution_count": 80,
   "id": "e0e1eb55",
   "metadata": {},
   "outputs": [
    {
     "name": "stdout",
     "output_type": "stream",
     "text": [
      "66\n",
      "66\n",
      "57\n",
      "57\n"
     ]
    }
   ],
   "source": [
    "R = 0.4\n",
    "ONE_HUNDRED_GEV = 100\n",
    "# clean and store list of jets as particles (pt, eta, phi)\n",
    "indices = []\n",
    "Js = []\n",
    "for i, x in enumerate(X2): \n",
    "    # center jet according to pt-centroid\n",
    "    yphi_avg = np.average(x[:,1:3], weights=x[:,0], axis=0)\n",
    "    x[:,1:3] -= yphi_avg\n",
    "    # mask out any particles farther than R=0.4 away from center (rare)\n",
    "    print(len(x))\n",
    "    # x = x[np.linalg.norm(x[:,1:3], axis=1) <= R]\n",
    "    # add to list\n",
    "    if len(x) == 0: continue\n",
    "    Js.append(x)\n",
    "    indices.append(i)\n",
    "\n",
    "# calc emd between all jet pairs and save datum\n",
    "jetpairs = [[i, j] for (i, j) in itertools.product(range(len(Js)),range(len(Js)))]\n",
    "datas = []\n",
    "for k, (i, j) in enumerate(jetpairs):    \n",
    "    emdval, G = ef.emd.emd(Js[i], Js[j], R=R, return_flow=True)\n",
    "    emdval = emdval/ONE_HUNDRED_GEV\n",
    "    G = G/ONE_HUNDRED_GEV\n",
    "    Ei = np.sum(Js[i][:,0])\n",
    "    Ej = np.sum(Js[j][:,0])\n",
    "    jiNorm = np.zeros((Js[i].shape[0],Js[i].shape[1]+1)) # add a field\n",
    "    jjNorm = np.zeros((Js[j].shape[0],Js[j].shape[1]+1)) # add a field\n",
    "    jiNorm[:,:3] = Js[i].copy()\n",
    "    jjNorm[:,:3] = Js[j].copy()\n",
    "    jiNorm[:,0] = jiNorm[:,0]/Ei\n",
    "    jjNorm[:,0] = jjNorm[:,0]/Ej\n",
    "    jiNorm[:,3] = -1*np.ones((Js[i].shape[0]))\n",
    "    jjNorm[:,3] = np.ones((Js[j].shape[0]))\n",
    "    jetpair = np.concatenate([jiNorm, jjNorm], axis=0)\n",
    "    nparticles_i = len(Js[i])\n",
    "    nparticles_j = len(Js[j])\n",
    "    pairs = [[m, n] for (m, n) in itertools.product(range(0,nparticles_i),range(nparticles_i,nparticles_i+nparticles_j))]\n",
    "    edge_index = torch.tensor(pairs, dtype=torch.long)\n",
    "    edge_index = edge_index.t().contiguous()\n",
    "    u = torch.tensor([[Ei/ONE_HUNDRED_GEV, Ej/ONE_HUNDRED_GEV]], dtype=torch.float)\n",
    "    edge_y = torch.tensor([[G[m,n-nparticles_i] for m, n in pairs]], dtype=torch.float)\n",
    "    edge_y = edge_y.t().contiguous()\n",
    "\n",
    "    x = torch.tensor(jetpair, dtype=torch.float)\n",
    "    y = torch.tensor([[emdval]], dtype=torch.float)\n",
    "\n",
    "    d = Data(x=x, edge_index=edge_index, y=y, u=u, edge_y=edge_y)         \n",
    "    datas.append(d)"
   ]
  },
  {
   "cell_type": "code",
   "execution_count": 104,
   "id": "5e546a12",
   "metadata": {
    "scrolled": true
   },
   "outputs": [],
   "source": [
    "pre = [d for d in datas if d.x.shape[0] == 57*2 and d.y != 0]"
   ]
  },
  {
   "cell_type": "code",
   "execution_count": 105,
   "id": "9cade2a7",
   "metadata": {},
   "outputs": [
    {
     "data": {
      "text/plain": [
       "[Data(edge_index=[2, 3249], edge_y=[3249, 1], u=[1, 2], x=[114, 4], y=[1, 1]),\n",
       " Data(edge_index=[2, 3249], edge_y=[3249, 1], u=[1, 2], x=[114, 4], y=[1, 1])]"
      ]
     },
     "execution_count": 105,
     "metadata": {},
     "output_type": "execute_result"
    }
   ],
   "source": [
    "pre"
   ]
  },
  {
   "cell_type": "code",
   "execution_count": 106,
   "id": "4fec4c8d",
   "metadata": {
    "scrolled": false
   },
   "outputs": [
    {
     "data": {
      "text/plain": [
       "tensor([[12.8494, 12.1002]])"
      ]
     },
     "execution_count": 106,
     "metadata": {},
     "output_type": "execute_result"
    }
   ],
   "source": [
    "pre[0].u"
   ]
  },
  {
   "cell_type": "markdown",
   "id": "b3f1b43d",
   "metadata": {},
   "source": [
    "# Correlation Btwn Energyflow API and NN with GAE Input"
   ]
  },
  {
   "cell_type": "code",
   "execution_count": 133,
   "id": "e35aa187",
   "metadata": {},
   "outputs": [],
   "source": [
    "import models\n",
    "from util import get_model\n",
    "import os.path as osp\n",
    "device = torch.device('cuda:0')"
   ]
  },
  {
   "cell_type": "code",
   "execution_count": 112,
   "id": "047dac7f",
   "metadata": {},
   "outputs": [
    {
     "data": {
      "text/plain": [
       "<All keys matched successfully>"
      ]
     },
     "execution_count": 112,
     "metadata": {},
     "output_type": "execute_result"
    }
   ],
   "source": [
    "model = get_model('EdgeNet', input_dim=3, big_dim=32, hidden_dim=2, emd_modname=None)\n",
    "modpath = osp.join('/anomalyvol/models','EdgeConv_MSE_no_E'+'.best.pth')\n",
    "model.load_state_dict(torch.load(modpath))\n",
    "model.to(device)"
   ]
  },
  {
   "cell_type": "code",
   "execution_count": 127,
   "id": "f020dda7",
   "metadata": {},
   "outputs": [],
   "source": [
    "from graph_data import GraphDataset\n",
    "from itertools import chain\n",
    "import random\n",
    "from torch_geometric.data import Data, DataLoader\n",
    "import copy"
   ]
  },
  {
   "cell_type": "code",
   "execution_count": 128,
   "id": "87857a5e",
   "metadata": {},
   "outputs": [],
   "source": [
    "# load in sample of data (1000 jets)\n",
    "gdata = GraphDataset(root='/anomalyvol/data/tiny2/', bb=0)\n",
    "dataset = [data for data in chain.from_iterable(gdata)]\n",
    "random.Random(0).shuffle(dataset)\n",
    "dataset = dataset[:1000]"
   ]
  },
  {
   "cell_type": "code",
   "execution_count": 129,
   "id": "3cd9d90f",
   "metadata": {},
   "outputs": [],
   "source": [
    "# px py pz only\n",
    "dataset_xyz = copy.deepcopy(dataset)\n",
    "for d in dataset_xyz:\n",
    "    d.x = d.x[:,:3]"
   ]
  },
  {
   "cell_type": "code",
   "execution_count": 132,
   "id": "c1763466",
   "metadata": {},
   "outputs": [],
   "source": [
    "dl = DataLoader(dataset_xyz, batch_size=1, pin_memory=True, shuffle=False)"
   ]
  },
  {
   "cell_type": "code",
   "execution_count": 134,
   "id": "4395492b",
   "metadata": {},
   "outputs": [],
   "source": [
    "from loss_util import LossFunction"
   ]
  },
  {
   "cell_type": "code",
   "execution_count": 136,
   "id": "56284b4f",
   "metadata": {},
   "outputs": [],
   "source": [
    "lf = LossFunction('emd_loss',emd_modname='EmdNNSpl.best.pth')"
   ]
  },
  {
   "cell_type": "code",
   "execution_count": null,
   "id": "97a31939",
   "metadata": {},
   "outputs": [],
   "source": [
    "losses = []\n",
    "with torch.no_grad():\n",
    "    for i, b in enumerate(dl):\n",
    "        if i % 100 == 0:\n",
    "            print(f'{i}/{len(dl)}')\n",
    "        b.to(device)\n",
    "        out = model(b)\n",
    "        loss = lf.loss_ftn(out, b.x, b.batch)\n",
    "        losses.append(loss.detach().cpu())"
   ]
  },
  {
   "cell_type": "code",
   "execution_count": 141,
   "id": "ed5d5d6d",
   "metadata": {},
   "outputs": [],
   "source": [
    "losses = [l.item() for l in losses]"
   ]
  },
  {
   "cell_type": "code",
   "execution_count": 144,
   "id": "4185091e",
   "metadata": {},
   "outputs": [],
   "source": [
    "losses = np.array(losses)"
   ]
  },
  {
   "cell_type": "code",
   "execution_count": 145,
   "id": "639ef8da",
   "metadata": {},
   "outputs": [],
   "source": [
    "# energyflow api\n",
    "import energyflow as ef"
   ]
  },
  {
   "cell_type": "code",
   "execution_count": 149,
   "id": "14b09c5a",
   "metadata": {},
   "outputs": [
    {
     "name": "stdout",
     "output_type": "stream",
     "text": [
      "0/1000\n",
      "100/1000\n",
      "200/1000\n",
      "300/1000\n",
      "400/1000\n",
      "500/1000\n",
      "600/1000\n",
      "700/1000\n",
      "800/1000\n",
      "900/1000\n"
     ]
    }
   ],
   "source": [
    "emds = []\n",
    "for i, b in enumerate(dl):\n",
    "    if i % 100 == 0:\n",
    "        print(f'{i}/{len(dl)}')\n",
    "    b.to(device)\n",
    "    out = model(b)\n",
    "    # px py pz -> pt eta phi\n",
    "    model_in = get_ptetaphi(b.x, b.batch).detach().cpu().numpy()\n",
    "    model_out = get_ptetaphi(out, b.batch).detach().cpu().numpy()\n",
    "    \n",
    "    emdval = ef.emd.emd(model_in, model_out, R=0.4, return_flow=False)\n",
    "    emdval = emdval/ONE_HUNDRED_GEV\n",
    "    emds.append(emdval)"
   ]
  },
  {
   "cell_type": "code",
   "execution_count": 157,
   "id": "a9b6451a",
   "metadata": {},
   "outputs": [
    {
     "ename": "AttributeError",
     "evalue": "module 'numpy' has no attribute 'to_array'",
     "output_type": "error",
     "traceback": [
      "\u001b[0;31m---------------------------------------------------------------------------\u001b[0m",
      "\u001b[0;31mAttributeError\u001b[0m                            Traceback (most recent call last)",
      "\u001b[0;32m<ipython-input-157-ea55b8e4e0b4>\u001b[0m in \u001b[0;36m<module>\u001b[0;34m\u001b[0m\n\u001b[0;32m----> 1\u001b[0;31m \u001b[0memds\u001b[0m \u001b[0;34m=\u001b[0m \u001b[0mnp\u001b[0m\u001b[0;34m.\u001b[0m\u001b[0mto_array\u001b[0m\u001b[0;34m(\u001b[0m\u001b[0memds\u001b[0m\u001b[0;34m)\u001b[0m\u001b[0;34m\u001b[0m\u001b[0;34m\u001b[0m\u001b[0m\n\u001b[0m\u001b[1;32m      2\u001b[0m \u001b[0memds\u001b[0m\u001b[0;34m\u001b[0m\u001b[0;34m\u001b[0m\u001b[0m\n",
      "\u001b[0;32m/opt/conda/lib/python3.8/site-packages/numpy/__init__.py\u001b[0m in \u001b[0;36m__getattr__\u001b[0;34m(attr)\u001b[0m\n\u001b[1;32m    311\u001b[0m                 \u001b[0;32mreturn\u001b[0m \u001b[0mTester\u001b[0m\u001b[0;34m\u001b[0m\u001b[0;34m\u001b[0m\u001b[0m\n\u001b[1;32m    312\u001b[0m \u001b[0;34m\u001b[0m\u001b[0m\n\u001b[0;32m--> 313\u001b[0;31m             raise AttributeError(\"module {!r} has no attribute \"\n\u001b[0m\u001b[1;32m    314\u001b[0m                                  \"{!r}\".format(__name__, attr))\n\u001b[1;32m    315\u001b[0m \u001b[0;34m\u001b[0m\u001b[0m\n",
      "\u001b[0;31mAttributeError\u001b[0m: module 'numpy' has no attribute 'to_array'"
     ]
    }
   ],
   "source": [
    "emds = np.arra(emds)\n",
    "emds"
   ]
  },
  {
   "cell_type": "code",
   "execution_count": 152,
   "id": "4337796f",
   "metadata": {},
   "outputs": [
    {
     "data": {
      "text/plain": [
       "array([3.45543289e+00, 4.90746388e-05, 1.18152630e+00, 9.14785576e+00,\n",
       "       5.90621376e+00, 8.95604134e+00, 7.64945889e+00, 1.83904953e+01,\n",
       "       3.89387846e+00, 4.32756007e-01, 1.25758286e+01, 9.04237461e+00,\n",
       "       8.72516632e+00, 2.46011400e+00, 1.16011219e+01, 8.49677277e+00,\n",
       "       2.99726677e+00, 1.02988272e+01, 1.17695141e+01, 1.22795200e+01,\n",
       "       4.84939814e+00, 2.40559578e+00, 1.87229156e+01, 1.51493607e+01,\n",
       "       1.73419189e+01, 4.34063339e+00, 6.63168907e+00, 2.91390109e+00,\n",
       "       4.20489494e-04, 4.80084562e+00, 1.21273375e+00, 9.68750000e+00,\n",
       "       8.49800682e+00, 1.24380131e+01, 3.44462919e+00, 9.69053268e+00,\n",
       "       4.45705318e+00, 2.14157438e+00, 1.62588120e+01, 1.87362945e+00,\n",
       "       4.69983101e+00, 1.06928386e-02, 7.88071156e+00, 3.03871810e-01,\n",
       "       1.30216084e+01, 2.51773405e+00, 1.17548485e+01, 9.58756447e-01,\n",
       "       1.14455199e+00, 3.94346714e+00, 2.14979015e-02, 7.39011240e+00,\n",
       "       1.08934078e+01, 2.90895045e-01, 6.16709232e+00, 7.19935942e+00,\n",
       "       4.38523865e+00, 1.35641021e-04, 4.97896150e-02, 1.41595221e+00,\n",
       "       3.81146383e+00, 5.85007095e+00, 3.18403751e-01, 1.23781986e+01,\n",
       "       2.57711548e-07, 1.57516126e-07, 1.64822311e+01, 6.07276201e+00,\n",
       "       7.04554796e+00, 2.18517208e+00, 4.11420250e+00, 2.26912558e-01,\n",
       "       7.30257034e+00, 1.67535329e+00, 8.88198853e+00, 5.79971981e+00,\n",
       "       2.92811799e+00, 1.85924655e-05, 1.23485415e-06, 1.23196449e+01,\n",
       "       5.00923157e+00, 1.31504908e-02, 1.14177719e-01, 1.01614494e+01,\n",
       "       1.80962518e-01, 3.26470047e-01, 7.29852772e+00, 3.69123960e+00,\n",
       "       1.80068463e-01, 5.21986961e+00, 5.13058662e+00, 4.17424870e+00,\n",
       "       4.00984812e+00, 7.34355831e+00, 2.29896046e-03, 4.16006953e-01,\n",
       "       5.81512833e+00, 5.71341801e+00, 4.00409603e+00, 6.48464561e-01,\n",
       "       1.85837150e-01, 4.36863375e+00, 7.49389076e+00, 9.95706558e+00,\n",
       "       1.30796224e-01, 4.14004666e-04, 1.17862053e+01, 6.09247971e+00,\n",
       "       3.07201719e+00, 4.89507057e-02, 4.37846279e+00, 3.78757238e+00,\n",
       "       9.15158272e+00, 1.53045578e+01, 8.44534111e+00, 2.06432887e-05,\n",
       "       1.16820109e+00, 2.36080587e-02, 5.28664398e+00, 2.36582232e+00,\n",
       "       8.34361553e-01, 1.44720936e+00, 2.73978686e+00, 5.77019119e+00,\n",
       "       4.84705353e+00, 3.55300248e-01, 4.90575457e+00, 2.52547979e+00,\n",
       "       2.27571934e-01, 1.17213035e+00, 9.64317608e+00, 8.98674011e-01,\n",
       "       1.49592757e+00, 8.16817570e+00, 4.30586910e+00, 2.61725502e+01,\n",
       "       6.18724346e+00, 1.28123817e+01, 1.45767841e+01, 8.36693192e+00,\n",
       "       1.64447212e+01, 2.46595055e-01, 4.51062489e+00, 1.91763573e+01,\n",
       "       5.21562338e-01, 5.43955898e+00, 1.97863579e+01, 2.17119843e-01,\n",
       "       7.21033764e+00, 4.31290531e+00, 3.26290798e+00, 2.65202093e+00,\n",
       "       8.60610294e+00, 5.97310638e+00, 7.80492687e+00, 6.32106638e+00,\n",
       "       7.32354259e+00, 1.79730635e-02, 6.96767378e+00, 2.70102537e-05,\n",
       "       7.20972300e+00, 3.96480560e+00, 2.11180229e+01, 7.44431138e-01,\n",
       "       5.60832882e+00, 6.81066608e+00, 5.29762401e-05, 1.12662678e+01,\n",
       "       1.37362757e+01, 6.41054821e+00, 2.03411818e+00, 1.12770004e+01,\n",
       "       2.29458475e+00, 3.50254588e-04, 1.14587727e+01, 1.42524071e+01,\n",
       "       8.11992836e+00, 1.04150028e+01, 1.17522297e+01, 4.41965580e+00,\n",
       "       6.01112843e+00, 5.74809074e-01, 5.43370581e+00, 3.23655903e-01,\n",
       "       2.77310538e+00, 2.07881975e+00, 5.94184780e+00, 1.73416209e+00,\n",
       "       1.27446699e+01, 2.42241669e+00, 1.27734184e+01, 9.29048443e+00,\n",
       "       7.37287569e+00, 1.92325443e-01, 6.21850872e+00, 9.46416473e+00,\n",
       "       1.76690483e+00, 3.51717138e+00, 9.58649254e+00, 1.28521824e+00,\n",
       "       2.30458927e+00, 5.28303385e-01, 2.59973955e+00, 8.22406530e-01,\n",
       "       6.73980999e+00, 1.30427816e-06, 1.10936314e-01, 3.52923688e-03,\n",
       "       2.36836123e+00, 1.13569632e+01, 1.27336845e+01, 1.45316213e-01,\n",
       "       8.50013924e+00, 8.29356790e-01, 9.04736137e+00, 3.91809797e+00,\n",
       "       3.51317748e-02, 4.96465874e+00, 5.85352802e+00, 3.45134758e-05,\n",
       "       4.97825071e-02, 2.97993793e+01, 1.72736378e+01, 5.98654556e+00,\n",
       "       9.09091091e+00, 5.65644959e-03, 9.38206067e-05, 1.48815365e+01,\n",
       "       3.88158011e+00, 1.00465679e+00, 4.36987686e+00, 1.28018513e+01,\n",
       "       1.76614732e-01, 1.05254650e+01, 7.23576927e+00, 1.64969120e+01,\n",
       "       7.62948871e-01, 5.26518250e+00, 1.03604527e+01, 8.06615204e-02,\n",
       "       1.36259012e+01, 1.57177699e+00, 5.71419334e+00, 2.34957039e-01,\n",
       "       6.44193363e+00, 1.74217725e+00, 1.77926111e+00, 9.18065453e+00,\n",
       "       4.65546094e-04, 1.62464275e+01, 2.12553883e+00, 1.26924458e+01,\n",
       "       1.27402573e+01, 5.97146320e+00, 3.04491711e+00, 7.94937789e-01,\n",
       "       2.87570906e+00, 1.92105341e+00, 1.44841614e+01, 2.73482275e+00,\n",
       "       1.06911278e+01, 1.14134073e+01, 3.53378439e+00, 1.27048655e+01,\n",
       "       4.72973585e+00, 5.82658529e+00, 1.71717796e-02, 1.26302919e+01,\n",
       "       1.36969204e+01, 1.32275715e+01, 5.18528271e+00, 1.41959152e+01,\n",
       "       3.58805180e+00, 3.00231123e+00, 6.08258247e+00, 1.52181816e+01,\n",
       "       7.14311028e+00, 1.10882778e+01, 1.08521442e+01, 7.16454983e+00,\n",
       "       2.79228439e+01, 6.07526112e+00, 7.01540375e+00, 5.47673130e+00,\n",
       "       1.23262882e+01, 1.27995625e+01, 1.11473827e+01, 2.88702154e-07,\n",
       "       3.86839867e+00, 1.18554473e+00, 2.87215352e+00, 4.66684628e+00,\n",
       "       1.85943246e-01, 1.44200027e-01, 1.50857139e+00, 6.94864511e+00,\n",
       "       2.19897699e+00, 1.11996937e+01, 1.62721705e+00, 8.39478111e+00,\n",
       "       1.87266678e-01, 1.21795998e+01, 1.88233401e-03, 6.88811111e+00,\n",
       "       5.01019382e+00, 6.49068975e+00, 2.78942913e-01, 6.62067509e+00,\n",
       "       2.81285644e-01, 1.03755589e+01, 1.81022091e+01, 4.40161467e-01,\n",
       "       1.23100960e+00, 1.61544871e+00, 4.03691083e-03, 2.67090172e-01,\n",
       "       1.08912201e+01, 2.21185446e+00, 1.89248443e+00, 2.74969101e+00,\n",
       "       4.95045737e-04, 2.85180426e+00, 7.21361697e-01, 1.14452686e+01,\n",
       "       3.07842612e+00, 3.33339429e+00, 1.48090725e+01, 1.25758533e+01,\n",
       "       2.50023937e+00, 7.16924953e+00, 6.34035206e+00, 3.22788906e+00,\n",
       "       1.10834151e-07, 1.32233696e+01, 5.80914211e+00, 2.86242390e+00,\n",
       "       1.29038012e+00, 3.11274552e+00, 9.98519707e+00, 9.23730469e+00,\n",
       "       1.07733881e+00, 4.03492737e+00, 2.54054785e+00, 2.40862541e+01,\n",
       "       2.09630060e+00, 6.37184000e+00, 6.54105186e+00, 7.51700163e+00,\n",
       "       4.39061165e+00, 5.36239862e-01, 4.94164753e+00, 1.75253034e+00,\n",
       "       8.49837112e+00, 1.47748971e+00, 6.74316263e+00, 5.94224691e-01,\n",
       "       4.28771546e-06, 1.34692812e+00, 1.30536385e+01, 5.23194730e-01,\n",
       "       2.50963330e+00, 4.57555676e+00, 7.71657676e-02, 6.84036636e+00,\n",
       "       4.49768007e-01, 4.28527215e-04, 1.25016242e-01, 5.72333860e+00,\n",
       "       8.40217400e+00, 1.15890131e+01, 8.77581477e-01, 8.62891579e+00,\n",
       "       1.63014852e-06, 9.04078865e+00, 1.53751388e-01, 2.94329786e+00,\n",
       "       3.18986344e+00, 1.09408569e+01, 5.35972500e+00, 1.08138728e+00,\n",
       "       1.19986811e+01, 1.24737329e-04, 1.62713623e+01, 1.47713818e-05,\n",
       "       6.25828743e+00, 3.25783312e-01, 4.55592632e+00, 5.23024082e+00,\n",
       "       1.94567223e+01, 4.71388817e+00, 3.07155252e+00, 2.07291451e+01,\n",
       "       8.09573746e+00, 1.86072700e-02, 7.63391137e-01, 2.26572561e+00,\n",
       "       1.54487777e+00, 1.79899521e+01, 1.39604816e+01, 1.53012061e+00,\n",
       "       1.86768866e+00, 8.89353514e-01, 5.87714079e-04, 2.75125837e+00,\n",
       "       4.07332134e+00, 1.02140322e+01, 3.52666438e-01, 1.83139360e+00,\n",
       "       7.95227337e+00, 1.26433516e+00, 1.51595712e-04, 4.97514121e-02,\n",
       "       3.15625644e+00, 1.80751381e+01, 7.72319317e+00, 5.66935635e+00,\n",
       "       1.76933932e+00, 6.39963627e+00, 4.09499025e+00, 1.10910797e+01,\n",
       "       4.43725395e+00, 2.51781917e+00, 6.47651863e+00, 1.24567412e-02,\n",
       "       2.49939942e+00, 3.35113049e+00, 9.77321529e+00, 6.60015726e+00,\n",
       "       1.41414852e+01, 1.32691212e+01, 8.08127785e+00, 1.20651174e+00,\n",
       "       5.51875591e-01, 1.06607819e+01, 8.76123231e-05, 1.24426022e-01,\n",
       "       6.10946989e+00, 1.54334354e+00, 2.59703994e-01, 9.49601555e+00,\n",
       "       6.51770258e+00, 1.24108877e+01, 4.46934748e+00, 2.84687614e+00,\n",
       "       2.00018578e+01, 1.16072483e+01, 1.15859804e+01, 2.20311213e+00,\n",
       "       8.28405571e+00, 6.63220406e+00, 2.30299950e+01, 1.05786009e+01,\n",
       "       9.83897972e+00, 1.08753977e+01, 2.53033943e+01, 2.71346784e+00,\n",
       "       3.94382179e-01, 1.00587559e+01, 1.72564831e+01, 5.89800715e-01,\n",
       "       5.99047375e+00, 8.35354424e+00, 4.11463928e+00, 6.22844601e+00,\n",
       "       2.94125231e-04, 1.29730272e+00, 3.44576025e+00, 2.59701461e-02,\n",
       "       8.31481520e-06, 4.75871468e+00, 1.16909180e+01, 1.94866991e+00,\n",
       "       1.68519095e-04, 1.28185577e+01, 6.49428368e+00, 7.34052944e+00,\n",
       "       5.24418211e+00, 1.91381454e-01, 1.15046654e+01, 1.10960503e+01,\n",
       "       2.62662977e-01, 3.06036019e+00, 1.13846321e+01, 1.81904640e+01,\n",
       "       2.55151033e+00, 2.22695694e+01, 1.39808531e+01, 1.10278034e+01,\n",
       "       5.18715858e+00, 1.03287487e+01, 3.02313280e+00, 1.97164357e+00,\n",
       "       1.71552855e-03, 7.83075809e+00, 5.06109810e+00, 2.48692095e-01,\n",
       "       1.25267868e+01, 4.16658688e+00, 1.99082355e+01, 2.01489687e+00,\n",
       "       1.11676311e+01, 1.19298697e+01, 1.00183620e+01, 1.09787865e+01,\n",
       "       8.10426995e-02, 1.46235046e+01, 3.76231956e+00, 5.04898913e-02,\n",
       "       5.52855396e+00, 1.51040584e-01, 9.52225494e+00, 1.19133270e-03,\n",
       "       5.98709297e+00, 9.72229862e+00, 7.19386148e+00, 7.74597153e-02,\n",
       "       1.83481753e+00, 3.93275976e+00, 4.26038074e+00, 1.45937920e+01,\n",
       "       2.23922776e-03, 3.55829668e+00, 2.44189072e+00, 1.12483530e+01,\n",
       "       8.11903715e-01, 2.48330135e+01, 4.59525585e+00, 1.33413715e+01,\n",
       "       5.48047733e+00, 3.87782335e+00, 1.39624968e+01, 1.13843117e+01,\n",
       "       4.24027741e-01, 5.06217480e+00, 1.39208221e+00, 1.64315628e-03,\n",
       "       4.83918142e+00, 1.86273232e+01, 7.48402454e-06, 8.77703285e+00,\n",
       "       1.85251224e+00, 3.64694046e-04, 9.62298012e+00, 8.48013496e+00,\n",
       "       6.00297594e+00, 1.00155888e+01, 7.16928101e+00, 1.07246208e+01,\n",
       "       4.31804466e+00, 4.62982464e+00, 1.19309521e+00, 5.81058598e+00,\n",
       "       6.52928591e+00, 2.22667170e+00, 7.89917564e+00, 1.15085602e+01,\n",
       "       1.10519056e+01, 3.23449802e+00, 5.23727131e+00, 3.91022535e-04,\n",
       "       6.46036720e+00, 1.51419048e+01, 1.22312460e+01, 9.12681580e+00,\n",
       "       8.90105438e+00, 3.80334169e-01, 2.03996754e+00, 7.26850033e-01,\n",
       "       3.37647891e+00, 2.05617261e+00, 3.86944437e+00, 1.43026605e-01,\n",
       "       7.23523617e+00, 6.30381256e-02, 3.28014565e+00, 1.38072720e+01,\n",
       "       9.58131599e+00, 4.79791164e+00, 2.65865707e+00, 4.31201553e+00,\n",
       "       1.11994779e+00, 3.83332586e+00, 1.59735250e+00, 5.42011294e-05,\n",
       "       3.02658260e-01, 1.19822254e+01, 1.58773441e+01, 2.99934268e-01,\n",
       "       5.48431444e+00, 4.32947963e-01, 9.59367394e-01, 2.98264599e+00,\n",
       "       4.20536369e-01, 9.26342392e+00, 5.08354282e+00, 9.32737541e+00,\n",
       "       3.72510576e+00, 1.75870667e+01, 4.28361130e+00, 5.48400171e-03,\n",
       "       8.26832950e-01, 7.83777905e+00, 3.46218944e+00, 7.47198868e+00,\n",
       "       8.47811317e+00, 7.96341276e+00, 2.78522491e-01, 1.64066544e+01,\n",
       "       4.61416531e+00, 8.96512866e-01, 5.10537148e+00, 1.15905619e+01,\n",
       "       8.21753597e+00, 5.41436553e-01, 3.24906111e+00, 5.22693253e+00,\n",
       "       1.47840652e+01, 1.46667652e+01, 7.82118976e-01, 6.43880653e+00,\n",
       "       3.85115099e+00, 9.42317605e-01, 5.06287193e+00, 6.98123529e-07,\n",
       "       3.87280345e-01, 1.49871264e+01, 4.50679064e-02, 9.24947834e+00,\n",
       "       1.77927464e-01, 1.18691673e+01, 2.44256330e+00, 6.44930553e+00,\n",
       "       8.47455883e+00, 6.62704563e+00, 5.61773896e-01, 6.56928539e+00,\n",
       "       1.63432723e-03, 1.04838734e+01, 6.22064590e-01, 1.30702424e+00,\n",
       "       1.08159294e+01, 2.93471599e+00, 8.27896476e-01, 3.61695910e+00,\n",
       "       4.89609480e+00, 8.60168362e+00, 3.26982558e-01, 1.03240433e+01,\n",
       "       7.54062271e+00, 5.83123350e+00, 6.95295286e+00, 4.18319035e+00,\n",
       "       1.04614277e+01, 4.60139036e+00, 6.25541306e+00, 2.45903373e+00,\n",
       "       2.58014345e+00, 6.01943350e+00, 2.49766931e-02, 1.33112092e-02,\n",
       "       8.19031745e-02, 6.66234541e+00, 5.05696440e+00, 3.35288262e+00,\n",
       "       2.83493924e+00, 7.37990522e+00, 1.23242912e+01, 6.73256302e+00,\n",
       "       5.54581547e+00, 1.34760780e+01, 1.82600725e+00, 5.60245991e+00,\n",
       "       5.97649384e+00, 8.30133379e-01, 3.64136696e+00, 1.37661304e+01,\n",
       "       1.75683270e+01, 7.13818729e-01, 6.04191348e-02, 2.67477536e+00,\n",
       "       1.40652714e+01, 9.82411194e+00, 3.40622282e+00, 1.06158848e+01,\n",
       "       3.83703971e+00, 9.92398262e+00, 6.76058531e-01, 1.07373571e+01,\n",
       "       1.75834808e+01, 5.97232533e+00, 8.04152679e+00, 4.08227928e-02,\n",
       "       7.67766476e+00, 1.89460220e+01, 5.33829391e-01, 1.20091782e+01,\n",
       "       1.20290661e+01, 4.44305874e-03, 6.22985172e+00, 1.10746038e+00,\n",
       "       4.03087473e+00, 1.86651862e+00, 1.20345402e+01, 3.92236924e+00,\n",
       "       3.39207220e+00, 2.98427629e+00, 1.69358253e+00, 5.59059811e+00,\n",
       "       1.21832800e+00, 6.14465666e+00, 2.18528137e+01, 8.89491975e-01,\n",
       "       1.66091068e-05, 1.00708036e-02, 2.15084529e+00, 5.32255135e-03,\n",
       "       2.12940311e+00, 3.43140864e+00, 6.01730871e+00, 1.27924109e+00,\n",
       "       2.10205626e+00, 1.61534667e+00, 8.45845795e+00, 2.70772219e+00,\n",
       "       6.41418076e+00, 5.00562382e+00, 9.21857452e+00, 2.58446312e+00,\n",
       "       1.21296249e-01, 1.13106537e+01, 1.09670420e+01, 2.43186879e+00,\n",
       "       4.44465256e+00, 1.01128817e+01, 7.41877937e+00, 2.32408429e-03,\n",
       "       5.55937195e+00, 6.14536953e+00, 1.63910627e+00, 3.36874545e-01,\n",
       "       3.59230489e-02, 2.85557461e+00, 6.14906311e+00, 7.40680408e+00,\n",
       "       8.24955368e+00, 1.01508498e+00, 7.57344055e+00, 9.61024189e+00,\n",
       "       1.02275162e+01, 1.87238410e-01, 8.57774067e+00, 7.21347618e+00,\n",
       "       1.73681357e-07, 1.02766857e+01, 3.08247328e-01, 4.99835372e-01,\n",
       "       3.55603862e+00, 4.04008865e+00, 9.89548874e+00, 5.18450737e+00,\n",
       "       3.85782075e+00, 8.24514404e-03, 3.87632179e+00, 8.44769287e+00,\n",
       "       1.51087008e+01, 8.11613083e+00, 8.58648109e+00, 4.85968637e+00,\n",
       "       4.30897236e+00, 4.76535130e+00, 2.82444739e+00, 8.36583138e+00,\n",
       "       2.34645319e+00, 6.31350279e-02, 1.25128031e+01, 1.15872793e+01,\n",
       "       1.73974633e+00, 1.00460136e+00, 3.85662651e+00, 1.76929164e+00,\n",
       "       5.81058121e+00, 8.93273735e+00, 1.04498024e+01, 3.67795420e+00,\n",
       "       8.58858871e+00, 7.17812347e+00, 2.00523715e-02, 1.06173325e+00,\n",
       "       3.15273309e+00, 1.64273052e+01, 8.90012360e+00, 8.17696095e+00,\n",
       "       1.51014900e+00, 3.74538882e-04, 7.10503459e-02, 2.03303871e+01,\n",
       "       5.93375444e+00, 1.50511312e+00, 2.36915541e-03, 4.51674843e+00,\n",
       "       6.79347245e-03, 1.25595436e+01, 1.73551064e+01, 1.42747271e+00,\n",
       "       3.89488935e+00, 1.92049828e+01, 1.20634995e+01, 1.37317581e+01,\n",
       "       6.57282734e+00, 6.87413197e-03, 7.83717823e+00, 8.17340469e+00,\n",
       "       1.98038423e+00, 1.10516205e+01, 3.82878518e+00, 5.36353207e+00,\n",
       "       1.93822231e+01, 3.29036760e+00, 1.80756512e+01, 3.13825846e+00,\n",
       "       7.73293114e+00, 1.87636435e-01, 1.15679782e-02, 2.14194727e+00,\n",
       "       4.78857183e+00, 9.23966765e-02, 7.23255634e-01, 1.78101945e+00,\n",
       "       6.76461029e+00, 1.94861111e-03, 8.35048485e+00, 7.00512600e+00,\n",
       "       8.31021500e+00, 3.92588091e+00, 1.45291214e+01, 9.43243951e-02,\n",
       "       5.70758724e+00, 7.30347824e+00, 3.37988544e+00, 5.07318258e+00,\n",
       "       1.38631868e+00, 6.70249820e-01, 7.96973038e+00, 3.22967768e+00,\n",
       "       2.91849136e+01, 3.60383677e+00, 2.54465866e+00, 9.76815605e+00,\n",
       "       3.59071279e+00, 6.67516232e+00, 2.79546808e-03, 4.54937744e+00,\n",
       "       1.04507561e+01, 1.32538211e-02, 6.70265245e+00, 1.45462656e+01,\n",
       "       1.69943085e+01, 2.05734801e+00, 3.76081541e-02, 1.22634813e-01,\n",
       "       2.30176115e+00, 7.78854942e+00, 8.06242371e+00, 3.72614851e-03,\n",
       "       1.39438772e+01, 5.15648106e-04, 3.93661112e-03, 9.83363152e+00,\n",
       "       8.60623360e+00, 2.66556644e+00, 1.13209934e+01, 2.62191772e+00,\n",
       "       3.38062549e+00, 7.74108246e-02, 2.63451385e+00, 6.82704449e+00,\n",
       "       4.07766014e-01, 5.23779774e+00, 3.95180225e+00, 7.56190205e+00,\n",
       "       4.98789120e+00, 2.68785667e+00, 4.74343538e+00, 9.29737091e-01,\n",
       "       2.68661785e+00, 3.78569245e+00, 1.82638633e+00, 5.42070627e+00,\n",
       "       5.39008141e+00, 9.12769699e+00, 9.34402657e+00, 6.83146715e+00,\n",
       "       9.84249592e-01, 9.25046825e+00, 7.64726543e+00, 5.44298533e-03,\n",
       "       2.82419678e-05, 6.70819378e+00, 5.12487078e+00, 4.71490479e+00,\n",
       "       2.33015728e+00, 4.82764915e-02, 2.35023141e+00, 9.99413109e+00,\n",
       "       1.43024731e+01, 4.61314392e+00, 1.35825310e+01, 1.14895439e+00,\n",
       "       2.05399361e+01, 3.67326215e-02, 8.07419395e+00, 1.17107925e+01,\n",
       "       3.90898800e+00, 7.30548576e-02, 9.44055176e+00, 7.03127289e+00,\n",
       "       8.80625343e+00, 4.35314655e+00, 2.30673933e+00, 3.95473456e+00,\n",
       "       5.88272542e-06, 7.47871876e+00, 4.04907894e+00, 7.17102766e-01,\n",
       "       7.01200390e+00, 4.54601574e+00, 4.13815320e-01, 5.31297016e+00,\n",
       "       5.58297992e-01, 1.08600178e+01, 1.07136145e+01, 2.69418573e+00,\n",
       "       8.06327629e+00, 2.73422394e-02, 6.56956863e+00, 7.09997749e+00,\n",
       "       2.32147264e+00, 6.62188148e+00, 1.51704454e+00, 5.02206707e+00,\n",
       "       4.57710791e+00, 9.91578865e+00, 5.12058401e+00, 2.88229752e+00,\n",
       "       3.34251896e-02, 8.09160709e+00, 1.88535538e+01, 1.18543081e+01,\n",
       "       3.71858072e+00, 4.42902325e-04, 4.61445302e-02, 7.21503830e+00,\n",
       "       4.11091709e+00, 1.95786334e-03, 4.26482010e+00, 5.69178152e+00,\n",
       "       1.04761238e+01, 8.83805042e-05, 2.50432930e+01, 8.24392223e+00,\n",
       "       6.50797176e+00, 1.17173328e+01, 6.82491016e+00, 1.31180429e+00,\n",
       "       1.04939480e+01, 4.73067671e-01, 1.21416712e+00, 1.22680946e-03,\n",
       "       1.18043194e+01, 7.89759493e+00, 7.05981159e+00, 1.30635381e+00,\n",
       "       9.86822695e-02, 9.89465523e+00, 5.59083652e+00, 1.14864101e+01,\n",
       "       1.31750348e-04, 1.54404325e+01, 2.99360800e+00, 3.81803513e+00,\n",
       "       1.85255566e+01, 6.54079437e+00, 3.10163915e-01, 9.65129280e+00,\n",
       "       8.41735840e+00, 2.04016056e+01, 1.24323978e+01, 8.72495174e-01,\n",
       "       7.02635407e-01, 1.54153812e+00, 7.61909131e-03, 1.23586565e-01,\n",
       "       1.50490925e-02, 1.30398159e+01, 4.14963886e-02, 1.81214607e+00,\n",
       "       6.88916771e-04, 1.96193027e+00, 1.18583413e-02, 8.47176743e+00])"
      ]
     },
     "execution_count": 152,
     "metadata": {},
     "output_type": "execute_result"
    }
   ],
   "source": [
    "losses"
   ]
  },
  {
   "cell_type": "code",
   "execution_count": 154,
   "id": "c85427f3",
   "metadata": {},
   "outputs": [],
   "source": [
    "import matplotlib.pyplot as plt"
   ]
  },
  {
   "cell_type": "code",
   "execution_count": 155,
   "id": "2ede9f9b",
   "metadata": {},
   "outputs": [],
   "source": [
    "def make_plots(preds, ys):\n",
    "    # largest y-value rounded to nearest 100\n",
    "    max_range = round(np.max(ys),-2)\n",
    "    \n",
    "    diffs = (preds-ys)\n",
    "    rel_diffs = diffs[ys>0]/ys[ys>0]\n",
    "\n",
    "    # plot figures\n",
    "    plt.rcParams['figure.figsize'] = (4,4)\n",
    "    plt.rcParams['figure.dpi'] = 120\n",
    "    plt.rcParams['font.family'] = 'serif'\n",
    "\n",
    "    # overlaying hists\n",
    "    fig, ax = plt.subplots(figsize =(5, 5)) \n",
    "    plt.hist(ys, bins=np.linspace(0, max_range , 101),label='True', alpha=0.5)\n",
    "    plt.hist(preds, bins=np.linspace(0, max_range, 101),label = 'Pred.', alpha=0.5)\n",
    "    plt.legend()\n",
    "    ax.set_xlabel('EMD [GeV]') \n",
    "    fig.savefig(osp.join(save_dir,model_fname+'_EMD.pdf'))\n",
    "    fig.savefig(osp.join(save_dir,model_fname+'_EMD.png'))\n",
    "\n",
    "    # correlation\n",
    "    fig, ax = plt.subplots(figsize =(5, 5)) \n",
    "    x_bins = np.linspace(0, max_range, 101)\n",
    "    y_bins = np.linspace(0, max_range, 101)\n",
    "    plt.hist2d(ys, preds, bins=[x_bins,y_bins])\n",
    "    ax.set_xlabel('True EMD [GeV]')  \n",
    "    ax.set_ylabel('Pred. EMD [GeV]')"
   ]
  },
  {
   "cell_type": "code",
   "execution_count": null,
   "id": "1adf8c93",
   "metadata": {},
   "outputs": [],
   "source": [
    "make_plots(losses, )"
   ]
  }
 ],
 "metadata": {
  "kernelspec": {
   "display_name": "Python 3",
   "language": "python",
   "name": "python3"
  },
  "language_info": {
   "codemirror_mode": {
    "name": "ipython",
    "version": 3
   },
   "file_extension": ".py",
   "mimetype": "text/x-python",
   "name": "python",
   "nbconvert_exporter": "python",
   "pygments_lexer": "ipython3",
   "version": "3.8.8"
  }
 },
 "nbformat": 4,
 "nbformat_minor": 5
}
