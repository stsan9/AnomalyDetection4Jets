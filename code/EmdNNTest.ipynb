{
 "cells": [
  {
   "cell_type": "code",
   "execution_count": 39,
   "id": "a319c6e0",
   "metadata": {},
   "outputs": [],
   "source": [
    "from loss_util import get_ptetaphi, preprocess_emdnn_input"
   ]
  },
  {
   "cell_type": "code",
   "execution_count": 1,
   "id": "072fc5e8",
   "metadata": {},
   "outputs": [],
   "source": [
    "import numpy as np\n",
    "import pandas as pd\n",
    "import math\n",
    "import torch\n",
    "from pyjet import cluster,DTYPE_PTEPM\n",
    "\n",
    "def jet_particles(raw_path, n_events):\n",
    "    df = pd.read_hdf(raw_path, stop=n_events)\n",
    "    all_events = df.values\n",
    "    rows = all_events.shape[0]\n",
    "    cols = all_events.shape[1]\n",
    "    X = []\n",
    "    # cluster jets and store info\n",
    "    for i in range(rows):\n",
    "        pseudojets_input = np.zeros(len([x for x in all_events[i][::3] if x > 0]), dtype=DTYPE_PTEPM)\n",
    "        for j in range(cols // 3):\n",
    "            if (all_events[i][j*3]>0):\n",
    "                pseudojets_input[j]['pT'] = all_events[i][j*3]\n",
    "                pseudojets_input[j]['eta'] = all_events[i][j*3+1]\n",
    "                pseudojets_input[j]['phi'] = all_events[i][j*3+2]\n",
    "        sequence = cluster(pseudojets_input, R=1.0, p=-1)\n",
    "        jets = sequence.inclusive_jets()[:2] # leading 2 jets only\n",
    "        if len(jets) < 2: continue\n",
    "        for jet in jets: # for each jet get (px, py, pz, e)\n",
    "            if jet.pt < 200 or len(jets)<=1: continue\n",
    "            n_particles = len(jet)\n",
    "            particles = np.zeros((n_particles, 6))\n",
    "            # store all the particles of this jet\n",
    "            for p, part in enumerate(jet):\n",
    "                particles[p,:] = np.array([part.px,\n",
    "                                           part.py,\n",
    "                                           part.pz,\n",
    "                                           part.pt,\n",
    "                                           part.eta,\n",
    "                                           part.phi])\n",
    "            X.append(particles)\n",
    "    X = np.array(X,dtype='O')\n",
    "    return X"
   ]
  },
  {
   "cell_type": "code",
   "execution_count": 52,
   "id": "9e5a22a4",
   "metadata": {},
   "outputs": [],
   "source": [
    "X = jet_particles('/anomalyvol/data/bb_train_sets/bb0/raw/events_LHCO2020_backgroundMC_Pythia.h5', 70)"
   ]
  },
  {
   "cell_type": "code",
   "execution_count": 18,
   "id": "35263f80",
   "metadata": {},
   "outputs": [],
   "source": [
    "x = X[2]"
   ]
  },
  {
   "cell_type": "code",
   "execution_count": 35,
   "id": "819358f5",
   "metadata": {},
   "outputs": [],
   "source": [
    "ptetaphi = get_ptetaphi(torch.from_numpy(x[:,:3]),torch.zeros(len(x)))"
   ]
  },
  {
   "cell_type": "code",
   "execution_count": 26,
   "id": "7974639a",
   "metadata": {},
   "outputs": [],
   "source": [
    "pair = []\n",
    "for l in X:\n",
    "    if len(l) == 66:\n",
    "        pair.append(l)"
   ]
  },
  {
   "cell_type": "markdown",
   "id": "fe982aee",
   "metadata": {},
   "source": [
    "# gae + emdnn preprocessing"
   ]
  },
  {
   "cell_type": "code",
   "execution_count": 42,
   "id": "76f88bd0",
   "metadata": {},
   "outputs": [],
   "source": [
    "j1 = torch.from_numpy(pair[0][:,:3])\n",
    "j2 = torch.from_numpy(pair[1][:,:3])\n",
    "batch = torch.zeros(len(j1),dtype=torch.int64)\n",
    "j1 = get_ptetaphi(j1, batch)\n",
    "j2 = get_ptetaphi(j2, batch)\n",
    "data = preprocess_emdnn_input(j1,j2,batch)"
   ]
  },
  {
   "cell_type": "code",
   "execution_count": 86,
   "id": "b2711bcb",
   "metadata": {},
   "outputs": [
    {
     "data": {
      "text/plain": [
       "Data(edge_index=[2, 2401], edge_y=[2401, 1], u=[1, 2], x=[98, 4], y=[1, 1])"
      ]
     },
     "execution_count": 86,
     "metadata": {},
     "output_type": "execute_result"
    }
   ],
   "source": [
    "data.x"
   ]
  },
  {
   "cell_type": "markdown",
   "id": "cbda4f6f",
   "metadata": {},
   "source": [
    "# emd-training preprocessing"
   ]
  },
  {
   "cell_type": "code",
   "execution_count": 53,
   "id": "38d7225a",
   "metadata": {},
   "outputs": [],
   "source": [
    "import torch\n",
    "import itertools\n",
    "import numpy as np\n",
    "import energyflow as ef\n",
    "from torch_geometric.data import Dataset, Data"
   ]
  },
  {
   "cell_type": "code",
   "execution_count": 59,
   "id": "c49c3b07",
   "metadata": {},
   "outputs": [],
   "source": [
    "X2 = [x[:,3:] for x in X]"
   ]
  },
  {
   "cell_type": "code",
   "execution_count": 77,
   "id": "20bdc303",
   "metadata": {},
   "outputs": [],
   "source": [
    "X2 = [p[:,3:] for p in pair[:2]]"
   ]
  },
  {
   "cell_type": "code",
   "execution_count": 89,
   "id": "1f83617c",
   "metadata": {},
   "outputs": [
    {
     "name": "stdout",
     "output_type": "stream",
     "text": [
      "66\n",
      "22\n",
      "66\n",
      "49\n"
     ]
    }
   ],
   "source": [
    "R = 0.4\n",
    "ONE_HUNDRED_GEV = 100\n",
    "# clean and store list of jets as particles (pt, eta, phi)\n",
    "indices = []\n",
    "Js = []\n",
    "for i, x in enumerate(X2): \n",
    "    # center jet according to pt-centroid\n",
    "    yphi_avg = np.average(x[:,1:3], weights=x[:,0], axis=0)\n",
    "    x[:,1:3] -= yphi_avg\n",
    "    # mask out any particles farther than R=0.4 away from center (rare)\n",
    "    print(len(x))\n",
    "    x = x[np.linalg.norm(x[:,1:3], axis=1) <= R]\n",
    "    print(len(x))\n",
    "    # add to list\n",
    "    if len(x) == 0: continue\n",
    "    Js.append(x)\n",
    "    indices.append(i)\n",
    "\n",
    "# calc emd between all jet pairs and save datum\n",
    "jetpairs = [[i, j] for (i, j) in itertools.product(range(len(Js)),range(len(Js)))]\n",
    "datas = []\n",
    "for k, (i, j) in enumerate(jetpairs):    \n",
    "    emdval, G = ef.emd.emd(Js[i], Js[j], R=R, return_flow=True)\n",
    "    emdval = emdval/ONE_HUNDRED_GEV\n",
    "    G = G/ONE_HUNDRED_GEV\n",
    "    Ei = np.sum(Js[i][:,0])\n",
    "    Ej = np.sum(Js[j][:,0])\n",
    "    jiNorm = np.zeros((Js[i].shape[0],Js[i].shape[1]+1)) # add a field\n",
    "    jjNorm = np.zeros((Js[j].shape[0],Js[j].shape[1]+1)) # add a field\n",
    "    jiNorm[:,:3] = Js[i].copy()\n",
    "    jjNorm[:,:3] = Js[j].copy()\n",
    "    jiNorm[:,0] = jiNorm[:,0]/Ei\n",
    "    jjNorm[:,0] = jjNorm[:,0]/Ej\n",
    "    jiNorm[:,3] = -1*np.ones((Js[i].shape[0]))\n",
    "    jjNorm[:,3] = np.ones((Js[j].shape[0]))\n",
    "    jetpair = np.concatenate([jiNorm, jjNorm], axis=0)\n",
    "    nparticles_i = len(Js[i])\n",
    "    nparticles_j = len(Js[j])\n",
    "    pairs = [[m, n] for (m, n) in itertools.product(range(0,nparticles_i),range(nparticles_i,nparticles_i+nparticles_j))]\n",
    "    edge_index = torch.tensor(pairs, dtype=torch.long)\n",
    "    edge_index = edge_index.t().contiguous()\n",
    "    u = torch.tensor([[Ei/ONE_HUNDRED_GEV, Ej/ONE_HUNDRED_GEV]], dtype=torch.float)\n",
    "    edge_y = torch.tensor([[G[m,n-nparticles_i] for m, n in pairs]], dtype=torch.float)\n",
    "    edge_y = edge_y.t().contiguous()\n",
    "\n",
    "    x = torch.tensor(jetpair, dtype=torch.float)\n",
    "    y = torch.tensor([[emdval]], dtype=torch.float)\n",
    "\n",
    "    data = Data(x=x, edge_index=edge_index, y=y, u=u, edge_y=edge_y)         \n",
    "    datas.append(data)"
   ]
  },
  {
   "cell_type": "code",
   "execution_count": 83,
   "id": "abb49325",
   "metadata": {
    "scrolled": true
   },
   "outputs": [],
   "source": [
    "pre = [d for d in datas if d.y != 0]"
   ]
  },
  {
   "cell_type": "code",
   "execution_count": 88,
   "id": "3f234e9a",
   "metadata": {},
   "outputs": [
    {
     "data": {
      "text/plain": [
       "Data(edge_index=[2, 1078], edge_y=[1078, 1], u=[1, 2], x=[71, 4], y=[1, 1])"
      ]
     },
     "execution_count": 88,
     "metadata": {},
     "output_type": "execute_result"
    }
   ],
   "source": [
    "pre[1]"
   ]
  }
 ],
 "metadata": {
  "kernelspec": {
   "display_name": "Python 3",
   "language": "python",
   "name": "python3"
  },
  "language_info": {
   "codemirror_mode": {
    "name": "ipython",
    "version": 3
   },
   "file_extension": ".py",
   "mimetype": "text/x-python",
   "name": "python",
   "nbconvert_exporter": "python",
   "pygments_lexer": "ipython3",
   "version": "3.8.8"
  }
 },
 "nbformat": 4,
 "nbformat_minor": 5
}
